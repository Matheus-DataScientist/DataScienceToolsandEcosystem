{
 "cells": [
  {
   "cell_type": "markdown",
   "id": "48016b1a-8ca6-4e53-8e89-c8ce71c01c37",
   "metadata": {},
   "source": [
    "# Data Science Tools and Ecosystem\n"
   ]
  },
  {
   "cell_type": "markdown",
   "id": "f11f90d9-fe7d-4890-b554-e99e740716a8",
   "metadata": {
    "tags": []
   },
   "source": [
    "## Introduction\n",
    "In this notebook, Data Science Tools and Ecosystem are summarized."
   ]
  },
  {
   "cell_type": "markdown",
   "id": "7c5eeab7-4305-47c5-b99d-41299e2364be",
   "metadata": {},
   "source": [
    "**Objectives**\n",
    "\n",
    "* List popular languages for Data Science\n",
    "* List popular libraries that data scientists uses\n",
    "* List most used development environments open source\n",
    "\n"
   ]
  },
  {
   "cell_type": "markdown",
   "id": "03f2d2d5-990e-4182-ad26-e03dc53e3177",
   "metadata": {},
   "source": [
    "**Popular Languages**\n",
    "\n",
    "Some of the popular languages that Data Scientists use are:\n",
    "\n",
    "1. Python\n",
    "2. R\n",
    "3. SQL"
   ]
  },
  {
   "cell_type": "markdown",
   "id": "76a2086b-d484-4d9f-bc95-d500a615ffd7",
   "metadata": {},
   "source": [
    "**Libraries**\n",
    "\n",
    "Some of the commonly used libraries used by Data Scientists include:\n",
    "\n",
    "1. Nympy (Python)\n",
    "2. Pandas (Python)\n",
    "3. ggplot2 (R)\n",
    "\n"
   ]
  },
  {
   "cell_type": "markdown",
   "id": "3e98b3ba-3aa6-474b-9d4f-530b385ebff2",
   "metadata": {},
   "source": [
    "__Data Science development environment__\n",
    "\n",
    "|Data Science Tools|\n",
    "|--------------------|\n",
    "|Anaconda|\n",
    "|RStudio|\n",
    "|Jupyter Notebook|"
   ]
  },
  {
   "cell_type": "markdown",
   "id": "6df858fb-c4fe-436b-b584-8f61fe173c1b",
   "metadata": {},
   "source": [
    "### Below are a few examples of evaluating arithmetic expressions in Python"
   ]
  },
  {
   "cell_type": "code",
   "execution_count": 5,
   "id": "cae34ec6-8886-47be-b864-f8e006536e77",
   "metadata": {
    "tags": []
   },
   "outputs": [
    {
     "data": {
      "text/plain": [
       "17"
      ]
     },
     "execution_count": 5,
     "metadata": {},
     "output_type": "execute_result"
    }
   ],
   "source": [
    "(3*4)+5\n",
    "\n",
    "# This a simple arithmetic expression to multiply then add integers"
   ]
  },
  {
   "cell_type": "code",
   "execution_count": 6,
   "id": "18b6988d-d582-453d-a268-6bc1426db66c",
   "metadata": {
    "tags": []
   },
   "outputs": [
    {
     "data": {
      "text/plain": [
       "3.3333333333333335"
      ]
     },
     "execution_count": 6,
     "metadata": {},
     "output_type": "execute_result"
    }
   ],
   "source": [
    "(200/60)\n",
    "\n",
    "# This will convert 200 minutes to hours by diving by 60."
   ]
  },
  {
   "cell_type": "markdown",
   "id": "ca6a9fba-8c89-4d8b-a54b-9e426a81d156",
   "metadata": {},
   "source": [
    "## Author\n",
    "\n",
    "Matheus da Silva Lopes"
   ]
  }
 ],
 "metadata": {
  "kernelspec": {
   "display_name": "Python",
   "language": "python",
   "name": "conda-env-python-py"
  },
  "language_info": {
   "codemirror_mode": {
    "name": "ipython",
    "version": 3
   },
   "file_extension": ".py",
   "mimetype": "text/x-python",
   "name": "python",
   "nbconvert_exporter": "python",
   "pygments_lexer": "ipython3",
   "version": "3.7.12"
  }
 },
 "nbformat": 4,
 "nbformat_minor": 5
}
